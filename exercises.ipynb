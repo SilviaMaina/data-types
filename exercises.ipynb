{
 "cells": [
  {
   "cell_type": "markdown",
   "id": "5c95e29a",
   "metadata": {},
   "source": [
    "Write a program that generates a random number between 1 and 100. The user has to guess the number in a limited number of attempts. Provide feedback after each guess (higher, lower, or correct)."
   ]
  },
  {
   "cell_type": "code",
   "execution_count": 4,
   "id": "a318f99e",
   "metadata": {},
   "outputs": [
    {
     "name": "stdout",
     "output_type": "stream",
     "text": [
      " Try higher\n",
      " Try lower\n",
      " Try higher\n",
      " Try lower\n",
      " Try higher\n",
      "85 is the correct answer\n"
     ]
    }
   ],
   "source": [
    "import random\n",
    "attempts = 5\n",
    "num = random.randint(1,101)\n",
    "\n",
    "\n",
    "while attempts >=1 :\n",
    "    guess = int(input(\"Enter a number btwn 1 and 100\"))\n",
    "    if guess > num:\n",
    "        print(\" Try lower\")\n",
    "    elif guess < num:\n",
    "        print(\" Try higher\")\n",
    "    else:\n",
    "        print(\"Correct\")\n",
    "        break\n",
    "\n",
    "    attempts -= 1\n",
    "print(f\"{num} is the correct answer\")    "
   ]
  },
  {
   "cell_type": "markdown",
   "id": "121a70da",
   "metadata": {},
   "source": [
    "Write a program that allows the user to enter two numbers and an operator (+, -, *, /) and perform the corresponding calculation. Use conditional statements to handle different operators"
   ]
  },
  {
   "cell_type": "code",
   "execution_count": 6,
   "id": "380552cf",
   "metadata": {},
   "outputs": [
    {
     "name": "stdout",
     "output_type": "stream",
     "text": [
      "6 7\n",
      "42\n"
     ]
    }
   ],
   "source": [
    "num1 = int(input(\"Enter a number\"))\n",
    "num2 = int(input(\"Enter another number\"))\n",
    "operator = input(\"Enter operator\")\n",
    "print(num1, num2)\n",
    "\n",
    "if operator == \"+\":\n",
    "    print(num1 + num2 )\n",
    "elif operator == \"-\":\n",
    "    print(num1 - num2 )\n",
    "elif operator == \"*\":\n",
    "    print( num1 * num2 )\n",
    "elif operator == \"/\":\n",
    "    print ( num1 / num2 )    \n"
   ]
  },
  {
   "cell_type": "markdown",
   "id": "3a67281a",
   "metadata": {},
   "source": [
    "Write a program that uses a while loop to check if a number entered by the user is a prime number (divisible only by 1 and itself)."
   ]
  },
  {
   "cell_type": "code",
   "execution_count": 38,
   "id": "14f57ce6",
   "metadata": {},
   "outputs": [
    {
     "name": "stdout",
     "output_type": "stream",
     "text": [
      "9 is a not prime number.\n"
     ]
    }
   ],
   "source": [
    "flag = 0\n",
    "number = int(input(\"Enter a number:\"))\n",
    "i = 2\n",
    "while i <= (number/2):\n",
    "    if (number%i) == 0:\n",
    "        flag = 1\n",
    "        break\n",
    "    i += 1\n",
    "if number == 1:\n",
    "    print('1 is neither prime nor composite')\n",
    "elif flag == 0:\n",
    "    print(f\"{number} is a prime number.\")\n",
    "elif flag == 1:\n",
    "    print(f\"{number} is a not prime number.\")\n",
    "\n",
    "\n",
    "\n"
   ]
  },
  {
   "cell_type": "markdown",
   "id": "cb65d345",
   "metadata": {},
   "source": [
    "Write a program that uses a for loop to print the multiplication table of a number entered by the user (up to a specified number of multiples)."
   ]
  },
  {
   "cell_type": "code",
   "execution_count": 1,
   "id": "cdf737a8",
   "metadata": {},
   "outputs": [
    {
     "name": "stdout",
     "output_type": "stream",
     "text": [
      "0\n",
      "4\n",
      "8\n",
      "12\n",
      "16\n",
      "20\n",
      "24\n",
      "28\n",
      "32\n",
      "36\n",
      "40\n",
      "44\n",
      "48\n"
     ]
    }
   ],
   "source": [
    "num = int (input(\"Enter a number:\"))\n",
    "for i in range(13):\n",
    "    print(num * i)"
   ]
  },
  {
   "cell_type": "markdown",
   "id": "ece3a8f5",
   "metadata": {},
   "source": [
    "Write a program that uses a for loop to calculate the sum of numbers from 1 to a given number entered by the user."
   ]
  },
  {
   "cell_type": "code",
   "execution_count": 11,
   "id": "28f3be83",
   "metadata": {},
   "outputs": [
    {
     "name": "stdout",
     "output_type": "stream",
     "text": [
      "10\n"
     ]
    }
   ],
   "source": [
    "sum = 0\n",
    "num = int (input(\"Enter a number:\"))\n",
    "for i in range(1,num+1):\n",
    "    sum +=  i  \n",
    "print( sum ) "
   ]
  },
  {
   "cell_type": "markdown",
   "id": "fa3038c2",
   "metadata": {},
   "source": [
    "Write a program that uses a for loop to print a pattern of stars or characters like a triangle."
   ]
  },
  {
   "cell_type": "code",
   "execution_count": 27,
   "id": "d39c131b",
   "metadata": {},
   "outputs": [
    {
     "name": "stdout",
     "output_type": "stream",
     "text": [
      "\n",
      "1 \n",
      "2 2 \n",
      "3 3 3 \n",
      "4 4 4 4 \n",
      "5 5 5 5 5 \n"
     ]
    }
   ],
   "source": [
    "\n",
    "rows = 6\n",
    "\n",
    "for i in range(rows):\n",
    "    for j in range (i):\n",
    "        print(i, end=' ')\n",
    "   \n",
    "     \n",
    "    print( '' )"
   ]
  }
 ],
 "metadata": {
  "kernelspec": {
   "display_name": "virtual",
   "language": "python",
   "name": "python3"
  },
  "language_info": {
   "codemirror_mode": {
    "name": "ipython",
    "version": 3
   },
   "file_extension": ".py",
   "mimetype": "text/x-python",
   "name": "python",
   "nbconvert_exporter": "python",
   "pygments_lexer": "ipython3",
   "version": "3.13.2"
  }
 },
 "nbformat": 4,
 "nbformat_minor": 5
}
