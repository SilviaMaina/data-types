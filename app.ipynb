{
 "cells": [
  {
   "cell_type": "code",
   "execution_count": 1,
   "id": "084b1e13",
   "metadata": {},
   "outputs": [
    {
     "name": "stdout",
     "output_type": "stream",
     "text": [
      "Hello\n"
     ]
    }
   ],
   "source": [
    "print('Hello')"
   ]
  },
  {
   "cell_type": "code",
   "execution_count": 3,
   "id": "94169626",
   "metadata": {},
   "outputs": [
    {
     "name": "stdout",
     "output_type": "stream",
     "text": [
      "<class 'int'>\n",
      "<class 'float'>\n"
     ]
    }
   ],
   "source": [
    "x = 1\n",
    "print(type(x))\n",
    "\n",
    "y = 5.5\n",
    "print(type(y))"
   ]
  },
  {
   "cell_type": "code",
   "execution_count": 8,
   "id": "02fc8199",
   "metadata": {},
   "outputs": [
    {
     "name": "stdout",
     "output_type": "stream",
     "text": [
      "<class 'str'>\n",
      "JohnDoe\n",
      "John Doe\n",
      "Hi my name is John\n"
     ]
    }
   ],
   "source": [
    "first_name = 'John'\n",
    "last_name = 'Doe'\n",
    "full_name = first_name + \"\" + last_name\n",
    "full_name2 = f\"{first_name} {last_name}\"\n",
    "message = f\"Hi my name is {first_name}\"\n",
    "print(type(first_name))\n",
    "print (full_name)\n",
    "print(full_name2)\n",
    "print(message)\n"
   ]
  },
  {
   "cell_type": "code",
   "execution_count": 10,
   "id": "c7320356",
   "metadata": {},
   "outputs": [
    {
     "name": "stdout",
     "output_type": "stream",
     "text": [
      "<class 'bool'>\n"
     ]
    }
   ],
   "source": [
    "is_student = True\n",
    "print(type(is_student))"
   ]
  },
  {
   "cell_type": "code",
   "execution_count": 11,
   "id": "6828fdc1",
   "metadata": {},
   "outputs": [
    {
     "name": "stdout",
     "output_type": "stream",
     "text": [
      "['Jane', 'Bob', ' John']\n"
     ]
    }
   ],
   "source": [
    "my_list = [\"Jane\", \"Bob\",\" John\"]\n",
    "print(my_list)"
   ]
  },
  {
   "cell_type": "code",
   "execution_count": 12,
   "id": "35f5a563",
   "metadata": {},
   "outputs": [
    {
     "name": "stdout",
     "output_type": "stream",
     "text": [
      "('Jane', 'Bob', 'John')\n",
      "<class 'tuple'>\n"
     ]
    }
   ],
   "source": [
    "my_tuple = (\"Jane\", \"Bob\", \"John\")\n",
    "print(my_tuple)\n",
    "print(type(my_tuple))"
   ]
  },
  {
   "cell_type": "code",
   "execution_count": null,
   "id": "7c9eee8a",
   "metadata": {},
   "outputs": [],
   "source": []
  },
  {
   "cell_type": "code",
   "execution_count": 15,
   "id": "9100588f",
   "metadata": {},
   "outputs": [
    {
     "name": "stdout",
     "output_type": "stream",
     "text": [
      "[0, 1, 2, 3, 4, 5, 6, 7, 8, 9, 10, 11, 12, 13, 14, 15, 16, 17, 18, 19, 20, 21, 22, 23, 24, 25, 26, 27, 28, 29, 30, 31, 32, 33, 34, 35, 36, 37, 38, 39, 40, 41, 42, 43, 44, 45, 46, 47, 48, 49]\n"
     ]
    }
   ],
   "source": [
    "my_range = range(50)\n",
    "print(list(my_range))"
   ]
  },
  {
   "cell_type": "code",
   "execution_count": 16,
   "id": "f76919a1",
   "metadata": {},
   "outputs": [
    {
     "name": "stdout",
     "output_type": "stream",
     "text": [
      "{'name': 'Silvia'}\n",
      "<class 'dict'>\n"
     ]
    }
   ],
   "source": [
    "my_dict = {\n",
    "    \"name\":\"Silvia\"\n",
    "}\n",
    "print(my_dict)\n",
    "print(type(my_dict))"
   ]
  },
  {
   "cell_type": "code",
   "execution_count": 17,
   "id": "8998c558",
   "metadata": {},
   "outputs": [
    {
     "name": "stdout",
     "output_type": "stream",
     "text": [
      "<class 'set'>\n"
     ]
    }
   ],
   "source": [
    "my_set = {\"SUGAR\",\"SALT\"}\n",
    "print(type(my_set))"
   ]
  },
  {
   "cell_type": "code",
   "execution_count": null,
   "id": "da4c9c1b",
   "metadata": {},
   "outputs": [
    {
     "name": "stdout",
     "output_type": "stream",
     "text": [
      "13\n",
      "7\n",
      "30\n",
      "3.3333333333333335\n",
      "3\n",
      "1\n",
      "1000\n",
      "8.0\n",
      "3.141592653589793\n",
      "3\n",
      "4\n",
      "27.0\n",
      "4.67\n",
      "1.41\n",
      "20\n"
     ]
    }
   ],
   "source": [
    "import math\n",
    "a =  10\n",
    "b = 3\n",
    "print(a + b)\n",
    "print(a - b)\n",
    "print(a * b)\n",
    "print(a / b)\n",
    "print(a // b)\n",
    "print(a % b)\n",
    "print(a ** b)\n",
    "print(math.sqrt(64))\n",
    "print(math.pi)\n",
    "print(math.floor(a/b))\n",
    "print(math.ceil(3.1))\n",
    "print(math.pow(3,3))\n",
    "\n",
    "c = round(4.667,2)\n",
    "print(c)\n",
    "\n",
    "print(round(math.sqrt(2),2))\n",
    "print(abs(-20))\n",
    "float \n"
   ]
  },
  {
   "cell_type": "code",
   "execution_count": null,
   "id": "2317fa54",
   "metadata": {},
   "outputs": [
    {
     "name": "stdout",
     "output_type": "stream",
     "text": [
      "7.0\n"
     ]
    }
   ],
   "source": [
    "num1 = float(input(\"Enter first number:\"))\n",
    "num2 = float(input(\"Enter second number:\"))\n",
    "\n",
    "sum1 = num1 + num2\n",
    "print(sum1)\n"
   ]
  },
  {
   "cell_type": "code",
   "execution_count": 18,
   "id": "85111ba9",
   "metadata": {},
   "outputs": [
    {
     "name": "stdout",
     "output_type": "stream",
     "text": [
      "Hello Silvia\n"
     ]
    }
   ],
   "source": [
    "name = input(\"Enter your name:\")\n",
    "greeting = \"Hello\"\n",
    "full_greeting = f\"{greeting} {name}\"\n",
    "print(full_greeting)"
   ]
  },
  {
   "cell_type": "code",
   "execution_count": null,
   "id": "3d9f0736",
   "metadata": {},
   "outputs": [
    {
     "name": "stdout",
     "output_type": "stream",
     "text": [
      "john\n",
      "JOHN\n",
      "jOHN\n",
      "False\n",
      "False\n",
      "['red', 'blue', 'green', 'yellow']\n",
      "red blue green yellow\n"
     ]
    }
   ],
   "source": [
    "name = \"John\"\n",
    "print(name.lower())\n",
    "print(name.upper())\n",
    "print(name.swapcase())\n",
    "\n",
    "str3 = \"12ab\"\n",
    "str2 = \"\"\n",
    "print(str3.isalpha())\n",
    "print (str2.isspace())\n",
    "\n",
    "colors = \"red,blue,green,yellow\".split(\",\")\n",
    "joined = \" \" .join(colors)\n",
    "print(colors)\n",
    "print(joined)\n",
    "\n",
    "\n",
    "\n"
   ]
  },
  {
   "cell_type": "code",
   "execution_count": 27,
   "id": "b4dba160",
   "metadata": {},
   "outputs": [
    {
     "name": "stdout",
     "output_type": "stream",
     "text": [
      "Hello there, \n",
      " How are you?\n"
     ]
    }
   ],
   "source": [
    "s = \"Hello there, \\n How are you?\"\n",
    "print(s)"
   ]
  },
  {
   "cell_type": "code",
   "execution_count": 30,
   "id": "5f93f4eb",
   "metadata": {},
   "outputs": [
    {
     "name": "stdout",
     "output_type": "stream",
     "text": [
      "100.0\n",
      "25.5\n",
      "2550.0\n"
     ]
    }
   ],
   "source": [
    "hours = float(input(\"Enter Hours:\"))\n",
    "rate = float(input(\"Enter rate:\"))\n",
    "pay = hours*rate\n",
    "print(hours)\n",
    "print(rate)\n",
    "print(pay)"
   ]
  },
  {
   "cell_type": "code",
   "execution_count": 32,
   "id": "2592be6c",
   "metadata": {},
   "outputs": [
    {
     "name": "stdout",
     "output_type": "stream",
     "text": [
      "8\n",
      "<class 'int'>\n",
      "8.5\n",
      "<class 'float'>\n",
      "4.0\n",
      "<class 'float'>\n",
      "11\n",
      "<class 'int'>\n"
     ]
    }
   ],
   "source": [
    "width = 17\n",
    "height = 12.0\n",
    "print(width//2)\n",
    "print(type(width//2))\n",
    "print(width/2.0)\n",
    "print(type(width/2.0))\n",
    "print(height/3)\n",
    "print(type(height/3))\n",
    "print(1 + 2 * 5)\n",
    "print(type(1 + 2 * 5))\n"
   ]
  },
  {
   "cell_type": "code",
   "execution_count": 35,
   "id": "fc6ef5f8",
   "metadata": {},
   "outputs": [
    {
     "name": "stdout",
     "output_type": "stream",
     "text": [
      "25.0 celcius\n",
      "77.0 fahrenheit\n"
     ]
    }
   ],
   "source": [
    "temp_celcius = float(input(\"Enter temperature in celcius\"))\n",
    "fahrenheit_temp = temp_celcius * 9/5 + 32\n",
    "print(f\"{temp_celcius} celcius\")\n",
    "print(f\"{fahrenheit_temp} fahrenheit\") "
   ]
  },
  {
   "cell_type": "code",
   "execution_count": 40,
   "id": "0f65f10e",
   "metadata": {},
   "outputs": [
    {
     "name": "stdout",
     "output_type": "stream",
     "text": [
      "5 is odd\n",
      "You are a minor\n"
     ]
    }
   ],
   "source": [
    "x = 5\n",
    "if x % 2 == 0 :\n",
    "    print(f\"{x} is even \")\n",
    "else :\n",
    "    print(f\"{x} is odd\")   \n",
    "age = 3\n",
    "if age >= 18:\n",
    "    print(\"You are an adult\")  \n",
    "else:\n",
    "    print(\"You are a minor\")       "
   ]
  },
  {
   "cell_type": "code",
   "execution_count": 39,
   "id": "14acac57",
   "metadata": {},
   "outputs": [
    {
     "name": "stdout",
     "output_type": "stream",
     "text": [
      "4 4\n",
      "4 and 4  are equal\n"
     ]
    }
   ],
   "source": [
    "num1 = int(input(\"Enter random number:\"))\n",
    "num2 = int(input(\"Enter another random number:\"))\n",
    "print(num1, num2)\n",
    "\n",
    "if num1 == num2:\n",
    "    print(f\"{num1} and {num2}  are equal\")\n",
    "else:\n",
    "    if num1 <  num2:\n",
    "        print(f\"{num1} less than {num2}\")    \n",
    "    else:\n",
    "         print(f\"{num1} is greater than {num2}\")   "
   ]
  },
  {
   "cell_type": "markdown",
   "id": "63931aa8",
   "metadata": {},
   "source": [
    "Loops\n"
   ]
  },
  {
   "cell_type": "code",
   "execution_count": 41,
   "id": "70d6ea15",
   "metadata": {},
   "outputs": [
    {
     "name": "stdout",
     "output_type": "stream",
     "text": [
      "0\n",
      "1\n",
      "2\n",
      "3\n",
      "4\n",
      "5\n"
     ]
    }
   ],
   "source": [
    "for i in range(6):\n",
    "    print(i)"
   ]
  },
  {
   "cell_type": "code",
   "execution_count": 42,
   "id": "cbb91077",
   "metadata": {},
   "outputs": [
    {
     "name": "stdout",
     "output_type": "stream",
     "text": [
      "Blink\n",
      "Blink\n",
      "Blink\n",
      "Blink\n",
      "Blink\n"
     ]
    }
   ],
   "source": [
    "n = int (input(\"How many times to say blink\"))\n",
    "for i in range(n):\n",
    "    print(\"Blink\")"
   ]
  },
  {
   "cell_type": "code",
   "execution_count": 43,
   "id": "09c78cb3",
   "metadata": {},
   "outputs": [
    {
     "name": "stdout",
     "output_type": "stream",
     "text": [
      "Access granted\n"
     ]
    }
   ],
   "source": [
    "password = \"\"\n",
    "while password  !=  \"pass1234\":\n",
    "    password = input (\"Enter password:\")\n",
    "print(\"Access granted\")"
   ]
  },
  {
   "cell_type": "markdown",
   "id": "f5ff3a41",
   "metadata": {},
   "source": [
    "Fuctions"
   ]
  },
  {
   "cell_type": "code",
   "execution_count": 1,
   "id": "0dd87195",
   "metadata": {},
   "outputs": [
    {
     "name": "stdout",
     "output_type": "stream",
     "text": [
      "Hello World\n"
     ]
    }
   ],
   "source": [
    "def greet ():\n",
    "    print(\"Hello World\")\n",
    "\n",
    "greet()"
   ]
  },
  {
   "cell_type": "code",
   "execution_count": 6,
   "id": "d849b968",
   "metadata": {},
   "outputs": [
    {
     "name": "stdout",
     "output_type": "stream",
     "text": [
      "Hello, John\n"
     ]
    }
   ],
   "source": [
    "def greeting (name):\n",
    "    print(f\"Hello, {name}\")\n",
    "\n",
    "greeting(\"John\")\n"
   ]
  },
  {
   "cell_type": "code",
   "execution_count": null,
   "id": "e2264301",
   "metadata": {},
   "outputs": [
    {
     "name": "stdout",
     "output_type": "stream",
     "text": [
      "Hello,sly\n",
      "Hello,Guest\n"
     ]
    }
   ],
   "source": [
    "def greeting(name=\"Guest\"):\n",
    "    print(f\"Hello,{name}\")\n",
    "name =input(\"What is your name\")\n",
    "\n",
    "greeting(name)\n",
    "greeting()"
   ]
  },
  {
   "cell_type": "code",
   "execution_count": null,
   "id": "66597e32",
   "metadata": {},
   "outputs": [
    {
     "name": "stdout",
     "output_type": "stream",
     "text": [
      "Sum: 9\n"
     ]
    }
   ],
   "source": [
    "def add(num1, num2):\n",
    "    return num1 + num2\n",
    "\n",
    "sum2 = add(3,6)\n",
    "print(\"Sum:\",sum2)"
   ]
  },
  {
   "cell_type": "code",
   "execution_count": null,
   "id": "84ca4092",
   "metadata": {},
   "outputs": [
    {
     "name": "stdout",
     "output_type": "stream",
     "text": [
      "Bob is 50 years old.\n",
      "Jane is 40 years old.\n"
     ]
    }
   ],
   "source": [
    "def account(name, age):\n",
    "    print(f\"{name} is {age} years old.\")\n",
    "    \n",
    "account(\"Bob\", 50)\n",
    "account(age=40, name=\"Jane\")\n"
   ]
  },
  {
   "cell_type": "code",
   "execution_count": 12,
   "id": "62af06c4",
   "metadata": {},
   "outputs": [
    {
     "ename": "TypeError",
     "evalue": "'int' object is not callable",
     "output_type": "error",
     "traceback": [
      "\u001b[31m---------------------------------------------------------------------------\u001b[39m",
      "\u001b[31mTypeError\u001b[39m                                 Traceback (most recent call last)",
      "\u001b[36mCell\u001b[39m\u001b[36m \u001b[39m\u001b[32mIn[12]\u001b[39m\u001b[32m, line 4\u001b[39m\n\u001b[32m      1\u001b[39m \u001b[38;5;28;01mdef\u001b[39;00m\u001b[38;5;250m \u001b[39m\u001b[34msum_of_numbers\u001b[39m(*numbers): \u001b[38;5;66;03m#args\u001b[39;00m\n\u001b[32m      2\u001b[39m     \u001b[38;5;28mprint\u001b[39m(\u001b[33mf\u001b[39m\u001b[33m\"\u001b[39m\u001b[33mSum is:\u001b[39m\u001b[33m\"\u001b[39m,\u001b[38;5;28msum\u001b[39m(numbers))\n\u001b[32m----> \u001b[39m\u001b[32m4\u001b[39m \u001b[43msum_of_numbers\u001b[49m\u001b[43m(\u001b[49m\u001b[32;43m2\u001b[39;49m\u001b[43m \u001b[49m\u001b[43m,\u001b[49m\u001b[32;43m3\u001b[39;49m\u001b[43m \u001b[49m\u001b[43m,\u001b[49m\u001b[32;43m4\u001b[39;49m\u001b[43m)\u001b[49m\n",
      "\u001b[36mCell\u001b[39m\u001b[36m \u001b[39m\u001b[32mIn[12]\u001b[39m\u001b[32m, line 2\u001b[39m, in \u001b[36msum_of_numbers\u001b[39m\u001b[34m(*numbers)\u001b[39m\n\u001b[32m      1\u001b[39m \u001b[38;5;28;01mdef\u001b[39;00m\u001b[38;5;250m \u001b[39m\u001b[34msum_of_numbers\u001b[39m(*numbers): \u001b[38;5;66;03m#args\u001b[39;00m\n\u001b[32m----> \u001b[39m\u001b[32m2\u001b[39m     \u001b[38;5;28mprint\u001b[39m(\u001b[33mf\u001b[39m\u001b[33m\"\u001b[39m\u001b[33mSum is:\u001b[39m\u001b[33m\"\u001b[39m,\u001b[38;5;28;43msum\u001b[39;49m\u001b[43m(\u001b[49m\u001b[43mnumbers\u001b[49m\u001b[43m)\u001b[49m)\n",
      "\u001b[31mTypeError\u001b[39m: 'int' object is not callable"
     ]
    }
   ],
   "source": [
    "def sum_of_numbers(*numbers): #args\n",
    "    print(f\"Sum is:\",sum(numbers))\n",
    "\n",
    "sum_of_numbers(2 ,3 ,4)\n",
    "    "
   ]
  },
  {
   "cell_type": "code",
   "execution_count": 13,
   "id": "fe1cfe56",
   "metadata": {},
   "outputs": [
    {
     "name": "stdout",
     "output_type": "stream",
     "text": [
      "name: Jane\n",
      "gender: female\n",
      "age: 26\n",
      "city: Nairobi\n"
     ]
    }
   ],
   "source": [
    "def print_info(**info): #kwargs\n",
    "    for key, value in info.items():\n",
    "        print(f\"{key}: {value}\")\n",
    "print_info(name = \"Jane\", gender =\"female\", age=26, city=\"Nairobi\")"
   ]
  },
  {
   "cell_type": "code",
   "execution_count": 17,
   "id": "c71b94dc",
   "metadata": {},
   "outputs": [
    {
     "name": "stdout",
     "output_type": "stream",
     "text": [
      "36\n",
      "28\n",
      "True\n",
      "False\n",
      "Double: 12\n"
     ]
    }
   ],
   "source": [
    "square = lambda x: x * x\n",
    "print(square(6))\n",
    "\n",
    "multiply = lambda a,b: a*b\n",
    "print(multiply(4, 7))\n",
    "\n",
    "is_even = lambda x: x % 2 == 0\n",
    "print(is_even(2))\n",
    "print(is_even(3))\n",
    "\n",
    "double = lambda y: y * 2\n",
    "num = int(input(\"Enter a number:\"))\n",
    "print (\"Double:\", double(num))"
   ]
  },
  {
   "cell_type": "code",
   "execution_count": 19,
   "id": "d29739dd",
   "metadata": {},
   "outputs": [
    {
     "name": "stdout",
     "output_type": "stream",
     "text": [
      "Square of 8 is 64\n"
     ]
    }
   ],
   "source": [
    "def square(x):\n",
    "    return x * x\n",
    "def display_square(n):\n",
    "    result = square(n)\n",
    "    print(f\"Square of {n} is {result}\")\n",
    "display_square(8)"
   ]
  },
  {
   "cell_type": "code",
   "execution_count": 20,
   "id": "20005e32",
   "metadata": {},
   "outputs": [
    {
     "name": "stdout",
     "output_type": "stream",
     "text": [
      "Result: 30.0\n"
     ]
    }
   ],
   "source": [
    "def add(a, b):\n",
    "    return a + b\n",
    "def sub(a, b):\n",
    "    return a - b\n",
    "def mul(a, b):\n",
    "    return a * b\n",
    "\n",
    "def div(a, b):\n",
    "    return a / b if b != 0 else\" Cannot divide by zero\"\n",
    "a = float(input(\"Enter first number:\"))\n",
    "b = float(input(\"Enter second number\"))\n",
    "op = input(\"Choose operation\")\n",
    "\n",
    "if op ==\"+\":\n",
    "    print(\"Result:\",add(a, b))\n",
    "elif op ==\"-\":\n",
    "    print(\"Result:\",sum(a, b))\n",
    "elif op ==\"*\":\n",
    "    print(\"Result:\",mul(a, b))\n",
    "elif op ==\"/\":\n",
    "    print(\"Result:\",div(a, b))\n",
    "else:\n",
    "    print(\"Invalid operator\")    "
   ]
  },
  {
   "cell_type": "code",
   "execution_count": 21,
   "id": "6aa16dc3",
   "metadata": {},
   "outputs": [
    {
     "name": "stdout",
     "output_type": "stream",
     "text": [
      "Line count: 1909\n"
     ]
    }
   ],
   "source": [
    "fhand = open('mbox_short.txt')\n",
    "\n",
    "count = 0\n",
    "\n",
    "for line in fhand:\n",
    "    count = count + 1\n",
    "print (\"Line count:\", count)"
   ]
  },
  {
   "cell_type": "code",
   "execution_count": 24,
   "id": "c16252ba",
   "metadata": {},
   "outputs": [
    {
     "name": "stdout",
     "output_type": "stream",
     "text": [
      "94625\n",
      "Fr\n"
     ]
    }
   ],
   "source": [
    "fhand = open('mbox_short.txt')\n",
    "inp = fhand.read()\n",
    "print(len(inp))\n",
    "print(inp[:2])"
   ]
  },
  {
   "cell_type": "code",
   "execution_count": null,
   "id": "24b8f2e4",
   "metadata": {},
   "outputs": [
    {
     "name": "stdout",
     "output_type": "stream",
     "text": [
      "To: source@collab.sakaiproject.org\n",
      "\n",
      "To: source@collab.sakaiproject.org\n",
      "\n",
      "To: source@collab.sakaiproject.org\n",
      "\n",
      "To: source@collab.sakaiproject.org\n",
      "\n",
      "To: source@collab.sakaiproject.org\n",
      "\n",
      "To: source@collab.sakaiproject.org\n",
      "\n",
      "To: source@collab.sakaiproject.org\n",
      "\n",
      "To: source@collab.sakaiproject.org\n",
      "\n",
      "To: source@collab.sakaiproject.org\n",
      "\n",
      "To: source@collab.sakaiproject.org\n",
      "\n",
      "To: source@collab.sakaiproject.org\n",
      "\n",
      "To: source@collab.sakaiproject.org\n",
      "\n",
      "To: source@collab.sakaiproject.org\n",
      "\n",
      "To: source@collab.sakaiproject.org\n",
      "\n",
      "To: source@collab.sakaiproject.org\n",
      "\n",
      "To: source@collab.sakaiproject.org\n",
      "\n",
      "To: source@collab.sakaiproject.org\n",
      "\n",
      "To: source@collab.sakaiproject.org\n",
      "\n",
      "To: source@collab.sakaiproject.org\n",
      "\n",
      "To: source@collab.sakaiproject.org\n",
      "\n",
      "To: source@collab.sakaiproject.org\n",
      "\n",
      "To: source@collab.sakaiproject.org\n",
      "\n",
      "To: source@collab.sakaiproject.org\n",
      "\n",
      "To: source@collab.sakaiproject.org\n",
      "\n",
      "To: source@collab.sakaiproject.org\n",
      "\n",
      "To: source@collab.sakaiproject.org\n",
      "\n",
      "To: source@collab.sakaiproject.org\n",
      "\n"
     ]
    }
   ],
   "source": [
    "fhand = open('mbox_short.txt')\n",
    "\n",
    "for line in fhand:\n",
    "    \n",
    "    if line.startswith('To:'):\n",
    "        print(line)"
   ]
  },
  {
   "cell_type": "code",
   "execution_count": 29,
   "id": "185c2142",
   "metadata": {},
   "outputs": [
    {
     "name": "stdout",
     "output_type": "stream",
     "text": [
      "From: stephen.marquard@uct.ac.za\n",
      "From: louis@media.berkeley.edu\n",
      "From: zqian@umich.edu\n",
      "From: rjlowe@iupui.edu\n",
      "From: zqian@umich.edu\n",
      "From: rjlowe@iupui.edu\n",
      "From: cwen@iupui.edu\n",
      "From: cwen@iupui.edu\n",
      "From: gsilver@umich.edu\n",
      "From: gsilver@umich.edu\n",
      "From: zqian@umich.edu\n",
      "From: gsilver@umich.edu\n",
      "From: wagnermr@iupui.edu\n",
      "From: zqian@umich.edu\n",
      "From: antranig@caret.cam.ac.uk\n",
      "From: gopal.ramasammycook@gmail.com\n",
      "From: david.horwitz@uct.ac.za\n",
      "From: david.horwitz@uct.ac.za\n",
      "From: david.horwitz@uct.ac.za\n",
      "From: david.horwitz@uct.ac.za\n",
      "From: stephen.marquard@uct.ac.za\n",
      "From: louis@media.berkeley.edu\n",
      "From: louis@media.berkeley.edu\n",
      "From: ray@media.berkeley.edu\n",
      "From: cwen@iupui.edu\n",
      "From: cwen@iupui.edu\n",
      "From: cwen@iupui.edu\n"
     ]
    }
   ],
   "source": [
    "fhand = open('mbox_short.txt')\n",
    "\n",
    "for line in fhand:\n",
    "    line = line.rstrip()\n",
    "    if line.startswith('From:'):\n",
    "        print(line)"
   ]
  },
  {
   "cell_type": "code",
   "execution_count": null,
   "id": "bbdff015",
   "metadata": {},
   "outputs": [
    {
     "name": "stdout",
     "output_type": "stream",
     "text": [
      "<_io.TextIOWrapper name='output.txt' mode='w' encoding='cp1252'>\n"
     ]
    },
    {
     "data": {
      "text/plain": [
       "24"
      ]
     },
     "execution_count": 33,
     "metadata": {},
     "output_type": "execute_result"
    }
   ],
   "source": [
    "file1 = open('output.txt', 'w')\n",
    "print(file1)\n",
    "line1 = \"Some random text\"\n",
    "file1.write(line1)\n",
    "\n",
    "line2 = \"\\nSome other random text.\"\n",
    "file1.write(line2)\n",
    "\n",
    "file1.close()"
   ]
  }
 ],
 "metadata": {
  "kernelspec": {
   "display_name": "virtual",
   "language": "python",
   "name": "python3"
  },
  "language_info": {
   "codemirror_mode": {
    "name": "ipython",
    "version": 3
   },
   "file_extension": ".py",
   "mimetype": "text/x-python",
   "name": "python",
   "nbconvert_exporter": "python",
   "pygments_lexer": "ipython3",
   "version": "3.13.2"
  }
 },
 "nbformat": 4,
 "nbformat_minor": 5
}
